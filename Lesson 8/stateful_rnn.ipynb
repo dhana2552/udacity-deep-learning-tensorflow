{
  "nbformat": 4,
  "nbformat_minor": 0,
  "metadata": {
    "colab": {
      "name": "stateful_rnn.ipynb",
      "provenance": [],
      "collapsed_sections": []
    },
    "kernelspec": {
      "name": "python3",
      "display_name": "Python 3"
    },
    "language_info": {
      "name": "python"
    }
  },
  "cells": [
    {
      "cell_type": "code",
      "execution_count": 1,
      "metadata": {
        "id": "LEqLb6ugQwnC"
      },
      "outputs": [],
      "source": [
        "import numpy as np\n",
        "import matplotlib.pyplot as plt\n",
        "import tensorflow as tf\n",
        "import keras"
      ]
    },
    {
      "cell_type": "code",
      "source": [
        "def plot_series(time, series, format='-', start=0, end=None, label=None):\n",
        "  plt.plot(time[start:end], series[start:end], format, label=label)\n",
        "  plt.xlabel('Time')\n",
        "  plt.ylabel('Value')\n",
        "  if label:\n",
        "    plt.legend(fontsize=6)\n",
        "  plt.grid(True)\n",
        "\n",
        "def trend(time, slope=0):\n",
        "  return time*slope\n",
        "\n",
        "def seasonal_pattern(seasonal_time):\n",
        "  return np.where(seasonal_time<0.4,\n",
        "                  np.cos(seasonal_time*2*np.pi),\n",
        "                  1/np.exp(3*seasonal_time))\n",
        "  \n",
        "def seasonality(time, period, amplitude=1, phase=0):\n",
        "  seasonal_time = ((time+phase)%period)/period\n",
        "  return amplitude*seasonal_pattern(seasonal_time)\n",
        "\n",
        "def white_noise(time, noise_level=1, seed=None):\n",
        "  rnd = np.random.RandomState(seed)\n",
        "  return rnd.randn(len(time))*noise_level\n"
      ],
      "metadata": {
        "id": "anJ3l3QjQzo1"
      },
      "execution_count": 2,
      "outputs": []
    },
    {
      "cell_type": "code",
      "source": [
        "time = np.arange(4*365+1)\n",
        "slope = 0.05\n",
        "baseline = 10\n",
        "amplitude = 40\n",
        "series = baseline + trend(time, slope) + seasonality(time, period=365, amplitude=amplitude)\n",
        "\n",
        "noise_level = 5\n",
        "noise = white_noise(time, noise_level=noise_level, seed=42)\n",
        "\n",
        "series += noise\n",
        "\n",
        "plt.figure(figsize=(8,6))\n",
        "plot_series(time, series)\n",
        "plt.show()"
      ],
      "metadata": {
        "colab": {
          "base_uri": "https://localhost:8080/",
          "height": 388
        },
        "id": "BsRXxrg3Q07f",
        "outputId": "c13ba3c6-fa2c-404d-fdd2-3db82349f3bd"
      },
      "execution_count": 3,
      "outputs": [
        {
          "output_type": "display_data",
          "data": {
            "image/png": "[encoded data removed]",
            "text/plain": [
              "<Figure size 576x432 with 1 Axes>"
            ]
          },
          "metadata": {
            "needs_background": "light"
          }
        }
      ]
    },
    {
      "cell_type": "code",
      "source": [
        "split_time = 1000\n",
        "time_train = time[:split_time]\n",
        "x_train = series[:split_time]\n",
        "time_valid = time[split_time:]\n",
        "x_valid = series[split_time:]"
      ],
      "metadata": {
        "id": "nHlX2HvRQ-oJ"
      },
      "execution_count": 4,
      "outputs": []
    },
    {
      "cell_type": "markdown",
      "source": [
        "**Stateful RNN**"
      ],
      "metadata": {
        "id": "LL0yFrYYRF-n"
      }
    },
    {
      "cell_type": "code",
      "source": [
        "def sequential_window_dataset(series, window_size):\n",
        "  series = tf.expand_dims(series, axis=-1)\n",
        "  ds = tf.data.Dataset.from_tensor_slices(series)\n",
        "  ds = ds.window(window_size+1, shift=window_size, drop_remainder=True)\n",
        "  ds = ds.flat_map(lambda window: window.batch(window_size+1))\n",
        "  ds = ds.map(lambda window: (window[:-1], window[1:]))\n",
        "  return ds.batch(1).prefetch(1)"
      ],
      "metadata": {
        "id": "VhOnZWUORDlk"
      },
      "execution_count": 6,
      "outputs": []
    },
    {
      "cell_type": "code",
      "source": [
        "#Lets visualize a sample data\n",
        "for X_batch, y_batch in sequential_window_dataset(tf.range(10), 3):\n",
        "  print('X: ', X_batch.numpy())\n",
        "  print('y: ', y_batch.numpy())"
      ],
      "metadata": {
        "colab": {
          "base_uri": "https://localhost:8080/"
        },
        "id": "loyuX92bSD_g",
        "outputId": "b5787102-7e2b-4313-859a-97feea354fd8"
      },
      "execution_count": 7,
      "outputs": [
        {
          "output_type": "stream",
          "name": "stdout",
          "text": [
            "X:  [[[0]\n",
            "  [1]\n",
            "  [2]]]\n",
            "y:  [[[1]\n",
            "  [2]\n",
            "  [3]]]\n",
            "X:  [[[3]\n",
            "  [4]\n",
            "  [5]]]\n",
            "y:  [[[4]\n",
            "  [5]\n",
            "  [6]]]\n",
            "X:  [[[6]\n",
            "  [7]\n",
            "  [8]]]\n",
            "y:  [[[7]\n",
            "  [8]\n",
            "  [9]]]\n"
          ]
        }
      ]
    },
    {
      "cell_type": "code",
      "source": [
        "#Custome Reset Class to reset states of the model\n",
        "class ResetStatesCallBack(keras.callbacks.Callback):\n",
        "  def on_epoch_begin(self, epoch, logs):\n",
        "    self.model.reset_states()"
      ],
      "metadata": {
        "id": "fsC6fQXAScsJ"
      },
      "execution_count": 11,
      "outputs": []
    },
    {
      "cell_type": "code",
      "source": [
        "keras.backend.clear_session()\n",
        "tf.random.set_seed(42)\n",
        "np.random.seed(42)\n",
        "\n",
        "window_size = 30\n",
        "train_set = sequential_window_dataset(x_train, window_size)\n",
        "\n",
        "model = tf.keras.models.Sequential([\n",
        "                                    keras.layers.SimpleRNN(100, batch_input_shape=[1, None, 1], return_sequences=True, stateful=True),\n",
        "                                    keras.layers.SimpleRNN(100, return_sequences=True, stateful=True),\n",
        "                                    keras.layers.Dense(1),\n",
        "                                    keras.layers.Lambda(lambda x: x*200)\n",
        "])\n",
        "\n",
        "lr_schedule = keras.callbacks.LearningRateScheduler(lambda epoch: 1e-8*10**(epoch/30))\n",
        "reset_state = ResetStatesCallBack()\n",
        "optimizer = tf.keras.optimizers.SGD(learning_rate=1e-7, momentum=0.9)\n",
        "model.compile(loss=tf.keras.losses.Huber(), optimizer=optimizer, metrics=['mae'])\n",
        "history = model.fit(train_set, epochs=100, callbacks=[lr_schedule, reset_state])"
      ],
      "metadata": {
        "colab": {
          "base_uri": "https://localhost:8080/"
        },
        "id": "iNcsHlQ6TJb6",
        "outputId": "0bb166b9-d9eb-44de-d7b1-6b2076b0626f"
      },
      "execution_count": 12,
      "outputs": [
        {
          "output_type": "stream",
          "name": "stdout",
          "text": [
            "Epoch 1/100\n",
            "33/33 [==============================] - 4s 30ms/step - loss: 105.9340 - mae: 106.4340 - lr: 1.0000e-08\n",
            "Epoch 2/100\n",
            "33/33 [==============================] - 1s 21ms/step - loss: 70.8572 - mae: 71.3571 - lr: 1.0798e-08\n",
            "Epoch 3/100\n",
            "33/33 [==============================] - 1s 22ms/step - loss: 39.8080 - mae: 40.3047 - lr: 1.1659e-08\n",
            "Epoch 4/100\n",
            "33/33 [==============================] - 1s 19ms/step - loss: 27.3450 - mae: 27.8404 - lr: 1.2589e-08\n",
            "Epoch 5/100\n",
            "33/33 [==============================] - 0s 14ms/step - loss: 24.4956 - mae: 24.9892 - lr: 1.3594e-08\n",
            "Epoch 6/100\n",
            "33/33 [==============================] - 0s 15ms/step - loss: 23.2601 - mae: 23.7517 - lr: 1.4678e-08\n",
            "Epoch 7/100\n",
            "33/33 [==============================] - 1s 15ms/step - loss: 22.0604 - mae: 22.5533 - lr: 1.5849e-08\n",
            "Epoch 8/100\n",
            "33/33 [==============================] - 0s 13ms/step - loss: 20.8543 - mae: 21.3463 - lr: 1.7113e-08\n",
            "Epoch 9/100\n",
            "33/33 [==============================] - 0s 15ms/step - loss: 19.8307 - mae: 20.3245 - lr: 1.8478e-08\n",
            "Epoch 10/100\n",
            "33/33 [==============================] - 1s 16ms/step - loss: 18.9398 - mae: 19.4319 - lr: 1.9953e-08\n",
            "Epoch 11/100\n",
            "33/33 [==============================] - 1s 21ms/step - loss: 18.2618 - mae: 18.7534 - lr: 2.1544e-08\n",
            "Epoch 12/100\n",
            "33/33 [==============================] - 0s 14ms/step - loss: 17.8208 - mae: 18.3103 - lr: 2.3263e-08\n",
            "Epoch 13/100\n",
            "33/33 [==============================] - 1s 15ms/step - loss: 17.5456 - mae: 18.0350 - lr: 2.5119e-08\n",
            "Epoch 14/100\n",
            "33/33 [==============================] - 1s 16ms/step - loss: 17.3178 - mae: 17.8066 - lr: 2.7123e-08\n",
            "Epoch 15/100\n",
            "33/33 [==============================] - 0s 14ms/step - loss: 17.1075 - mae: 17.5962 - lr: 2.9286e-08\n",
            "Epoch 16/100\n",
            "33/33 [==============================] - 0s 14ms/step - loss: 16.8930 - mae: 17.3833 - lr: 3.1623e-08\n",
            "Epoch 17/100\n",
            "33/33 [==============================] - 0s 15ms/step - loss: 16.6635 - mae: 17.1554 - lr: 3.4145e-08\n",
            "Epoch 18/100\n",
            "33/33 [==============================] - 1s 17ms/step - loss: 16.4183 - mae: 16.9092 - lr: 3.6869e-08\n",
            "Epoch 19/100\n",
            "33/33 [==============================] - 1s 22ms/step - loss: 16.1545 - mae: 16.6440 - lr: 3.9811e-08\n",
            "Epoch 20/100\n",
            "33/33 [==============================] - 1s 30ms/step - loss: 15.8707 - mae: 16.3592 - lr: 4.2987e-08\n",
            "Epoch 21/100\n",
            "33/33 [==============================] - 1s 33ms/step - loss: 15.5813 - mae: 16.0698 - lr: 4.6416e-08\n",
            "Epoch 22/100\n",
            "33/33 [==============================] - 1s 26ms/step - loss: 15.2826 - mae: 15.7715 - lr: 5.0119e-08\n",
            "Epoch 23/100\n",
            "33/33 [==============================] - 1s 27ms/step - loss: 14.9790 - mae: 15.4695 - lr: 5.4117e-08\n",
            "Epoch 24/100\n",
            "33/33 [==============================] - 1s 38ms/step - loss: 14.6615 - mae: 15.1514 - lr: 5.8434e-08\n",
            "Epoch 25/100\n",
            "33/33 [==============================] - 2s 54ms/step - loss: 14.3330 - mae: 14.8220 - lr: 6.3096e-08\n",
            "Epoch 26/100\n",
            "33/33 [==============================] - 2s 48ms/step - loss: 13.9788 - mae: 14.4693 - lr: 6.8129e-08\n",
            "Epoch 27/100\n",
            "33/33 [==============================] - 1s 38ms/step - loss: 13.5955 - mae: 14.0828 - lr: 7.3564e-08\n",
            "Epoch 28/100\n",
            "33/33 [==============================] - 1s 33ms/step - loss: 13.2027 - mae: 13.6893 - lr: 7.9433e-08\n",
            "Epoch 29/100\n",
            "33/33 [==============================] - 1s 31ms/step - loss: 12.8240 - mae: 13.3102 - lr: 8.5770e-08\n",
            "Epoch 30/100\n",
            "33/33 [==============================] - 1s 32ms/step - loss: 12.4855 - mae: 12.9692 - lr: 9.2612e-08\n",
            "Epoch 31/100\n",
            "33/33 [==============================] - 1s 37ms/step - loss: 12.1524 - mae: 12.6349 - lr: 1.0000e-07\n",
            "Epoch 32/100\n",
            "33/33 [==============================] - 1s 34ms/step - loss: 11.8552 - mae: 12.3387 - lr: 1.0798e-07\n",
            "Epoch 33/100\n",
            "33/33 [==============================] - 1s 30ms/step - loss: 11.5994 - mae: 12.0845 - lr: 1.1659e-07\n",
            "Epoch 34/100\n",
            "33/33 [==============================] - 1s 33ms/step - loss: 11.3511 - mae: 11.8377 - lr: 1.2589e-07\n",
            "Epoch 35/100\n",
            "33/33 [==============================] - 1s 33ms/step - loss: 11.0647 - mae: 11.5519 - lr: 1.3594e-07\n",
            "Epoch 36/100\n",
            "33/33 [==============================] - 1s 40ms/step - loss: 10.7654 - mae: 11.2513 - lr: 1.4678e-07\n",
            "Epoch 37/100\n",
            "33/33 [==============================] - 1s 36ms/step - loss: 10.4346 - mae: 10.9200 - lr: 1.5849e-07\n",
            "Epoch 38/100\n",
            "33/33 [==============================] - 1s 38ms/step - loss: 10.0617 - mae: 10.5416 - lr: 1.7113e-07\n",
            "Epoch 39/100\n",
            "33/33 [==============================] - 2s 50ms/step - loss: 9.8111 - mae: 10.2907 - lr: 1.8478e-07\n",
            "Epoch 40/100\n",
            "33/33 [==============================] - 1s 38ms/step - loss: 9.7208 - mae: 10.2041 - lr: 1.9953e-07\n",
            "Epoch 41/100\n",
            "33/33 [==============================] - 1s 34ms/step - loss: 9.5675 - mae: 10.0504 - lr: 2.1544e-07\n",
            "Epoch 42/100\n",
            "33/33 [==============================] - 1s 30ms/step - loss: 9.4666 - mae: 9.9516 - lr: 2.3263e-07\n",
            "Epoch 43/100\n",
            "33/33 [==============================] - 1s 34ms/step - loss: 9.1888 - mae: 9.6736 - lr: 2.5119e-07\n",
            "Epoch 44/100\n",
            "33/33 [==============================] - 1s 36ms/step - loss: 9.1645 - mae: 9.6502 - lr: 2.7123e-07\n",
            "Epoch 45/100\n",
            "33/33 [==============================] - 1s 34ms/step - loss: 9.0252 - mae: 9.5096 - lr: 2.9286e-07\n",
            "Epoch 46/100\n",
            "33/33 [==============================] - 1s 35ms/step - loss: 8.9602 - mae: 9.4419 - lr: 3.1623e-07\n",
            "Epoch 47/100\n",
            "33/33 [==============================] - 1s 31ms/step - loss: 8.7675 - mae: 9.2507 - lr: 3.4145e-07\n",
            "Epoch 48/100\n",
            "33/33 [==============================] - 2s 62ms/step - loss: 8.7664 - mae: 9.2487 - lr: 3.6869e-07\n",
            "Epoch 49/100\n",
            "33/33 [==============================] - 2s 50ms/step - loss: 9.2735 - mae: 9.7596 - lr: 3.9811e-07\n",
            "Epoch 50/100\n",
            "33/33 [==============================] - 2s 50ms/step - loss: 9.4919 - mae: 9.9782 - lr: 4.2987e-07\n",
            "Epoch 51/100\n",
            "33/33 [==============================] - 1s 38ms/step - loss: 8.4905 - mae: 8.9755 - lr: 4.6416e-07\n",
            "Epoch 52/100\n",
            "33/33 [==============================] - 1s 32ms/step - loss: 8.2843 - mae: 8.7688 - lr: 5.0119e-07\n",
            "Epoch 53/100\n",
            "33/33 [==============================] - 1s 30ms/step - loss: 9.8113 - mae: 10.2973 - lr: 5.4117e-07\n",
            "Epoch 54/100\n",
            "33/33 [==============================] - 1s 42ms/step - loss: 8.9929 - mae: 9.4774 - lr: 5.8434e-07\n",
            "Epoch 55/100\n",
            "33/33 [==============================] - 1s 32ms/step - loss: 10.4630 - mae: 10.9507 - lr: 6.3096e-07\n",
            "Epoch 56/100\n",
            "33/33 [==============================] - 1s 29ms/step - loss: 7.8043 - mae: 8.2812 - lr: 6.8129e-07\n",
            "Epoch 57/100\n",
            "33/33 [==============================] - 1s 33ms/step - loss: 7.8827 - mae: 8.3665 - lr: 7.3564e-07\n",
            "Epoch 58/100\n",
            "33/33 [==============================] - 1s 42ms/step - loss: 9.2714 - mae: 9.7581 - lr: 7.9433e-07\n",
            "Epoch 59/100\n",
            "33/33 [==============================] - 1s 39ms/step - loss: 9.5755 - mae: 10.0588 - lr: 8.5770e-07\n",
            "Epoch 60/100\n",
            "33/33 [==============================] - 1s 37ms/step - loss: 9.9370 - mae: 10.4210 - lr: 9.2612e-07\n",
            "Epoch 61/100\n",
            "33/33 [==============================] - 1s 33ms/step - loss: 7.9539 - mae: 8.4317 - lr: 1.0000e-06\n",
            "Epoch 62/100\n",
            "33/33 [==============================] - 1s 29ms/step - loss: 11.4722 - mae: 11.9588 - lr: 1.0798e-06\n",
            "Epoch 63/100\n",
            "33/33 [==============================] - 1s 25ms/step - loss: 7.1060 - mae: 7.5901 - lr: 1.1659e-06\n",
            "Epoch 64/100\n",
            "33/33 [==============================] - 1s 27ms/step - loss: 11.5368 - mae: 12.0265 - lr: 1.2589e-06\n",
            "Epoch 65/100\n",
            "33/33 [==============================] - 1s 35ms/step - loss: 8.1503 - mae: 8.6350 - lr: 1.3594e-06\n",
            "Epoch 66/100\n",
            "33/33 [==============================] - 1s 29ms/step - loss: 12.6124 - mae: 13.1061 - lr: 1.4678e-06\n",
            "Epoch 67/100\n",
            "33/33 [==============================] - 1s 34ms/step - loss: 9.1822 - mae: 9.6711 - lr: 1.5849e-06\n",
            "Epoch 68/100\n",
            "33/33 [==============================] - 1s 39ms/step - loss: 13.1235 - mae: 13.6136 - lr: 1.7113e-06\n",
            "Epoch 69/100\n",
            "33/33 [==============================] - 1s 38ms/step - loss: 12.0094 - mae: 12.5005 - lr: 1.8478e-06\n",
            "Epoch 70/100\n",
            "33/33 [==============================] - 2s 48ms/step - loss: 8.4580 - mae: 8.9433 - lr: 1.9953e-06\n",
            "Epoch 71/100\n",
            "33/33 [==============================] - 1s 36ms/step - loss: 11.5141 - mae: 12.0020 - lr: 2.1544e-06\n",
            "Epoch 72/100\n",
            "33/33 [==============================] - 1s 32ms/step - loss: 12.7040 - mae: 13.1948 - lr: 2.3263e-06\n",
            "Epoch 73/100\n",
            "33/33 [==============================] - 1s 39ms/step - loss: 14.0199 - mae: 14.5152 - lr: 2.5119e-06\n",
            "Epoch 74/100\n",
            "33/33 [==============================] - 1s 41ms/step - loss: 18.2811 - mae: 18.7758 - lr: 2.7123e-06\n",
            "Epoch 75/100\n",
            "33/33 [==============================] - 1s 42ms/step - loss: 15.8663 - mae: 16.3603 - lr: 2.9286e-06\n",
            "Epoch 76/100\n",
            "33/33 [==============================] - 1s 38ms/step - loss: 14.1240 - mae: 14.6187 - lr: 3.1623e-06\n",
            "Epoch 77/100\n",
            "33/33 [==============================] - 1s 24ms/step - loss: 25.7918 - mae: 26.2866 - lr: 3.4145e-06\n",
            "Epoch 78/100\n",
            "33/33 [==============================] - 1s 24ms/step - loss: 24.5850 - mae: 25.0817 - lr: 3.6869e-06\n",
            "Epoch 79/100\n",
            "33/33 [==============================] - 1s 20ms/step - loss: 15.9546 - mae: 16.4482 - lr: 3.9811e-06\n",
            "Epoch 80/100\n",
            "33/33 [==============================] - 1s 22ms/step - loss: 19.9491 - mae: 20.4432 - lr: 4.2987e-06\n",
            "Epoch 81/100\n",
            "33/33 [==============================] - 1s 21ms/step - loss: 12.0110 - mae: 12.5041 - lr: 4.6416e-06\n",
            "Epoch 82/100\n",
            "33/33 [==============================] - 1s 22ms/step - loss: 26.6746 - mae: 27.1719 - lr: 5.0119e-06\n",
            "Epoch 83/100\n",
            "33/33 [==============================] - 1s 22ms/step - loss: 26.6330 - mae: 27.1285 - lr: 5.4117e-06\n",
            "Epoch 84/100\n",
            "33/33 [==============================] - 1s 20ms/step - loss: 25.6355 - mae: 26.1300 - lr: 5.8434e-06\n",
            "Epoch 85/100\n",
            "33/33 [==============================] - 1s 25ms/step - loss: 33.8474 - mae: 34.3424 - lr: 6.3096e-06\n",
            "Epoch 86/100\n",
            "33/33 [==============================] - 1s 24ms/step - loss: 49.6545 - mae: 50.1521 - lr: 6.8129e-06\n",
            "Epoch 87/100\n",
            "33/33 [==============================] - 1s 18ms/step - loss: 42.4184 - mae: 42.9168 - lr: 7.3564e-06\n",
            "Epoch 88/100\n",
            "33/33 [==============================] - 1s 16ms/step - loss: 28.8631 - mae: 29.3620 - lr: 7.9433e-06\n",
            "Epoch 89/100\n",
            "33/33 [==============================] - 0s 15ms/step - loss: 38.2775 - mae: 38.7763 - lr: 8.5770e-06\n",
            "Epoch 90/100\n",
            "33/33 [==============================] - 1s 19ms/step - loss: 29.6171 - mae: 30.1133 - lr: 9.2612e-06\n",
            "Epoch 91/100\n",
            "33/33 [==============================] - 1s 18ms/step - loss: 33.0346 - mae: 33.5319 - lr: 1.0000e-05\n",
            "Epoch 92/100\n",
            "33/33 [==============================] - 1s 20ms/step - loss: 47.2596 - mae: 47.7566 - lr: 1.0798e-05\n",
            "Epoch 93/100\n",
            "33/33 [==============================] - 1s 20ms/step - loss: 33.4072 - mae: 33.9039 - lr: 1.1659e-05\n",
            "Epoch 94/100\n",
            "33/33 [==============================] - 1s 23ms/step - loss: 39.0736 - mae: 39.5718 - lr: 1.2589e-05\n",
            "Epoch 95/100\n",
            "33/33 [==============================] - 1s 17ms/step - loss: 30.0075 - mae: 30.5058 - lr: 1.3594e-05\n",
            "Epoch 96/100\n",
            "33/33 [==============================] - 1s 23ms/step - loss: 41.8093 - mae: 42.3082 - lr: 1.4678e-05\n",
            "Epoch 97/100\n",
            "33/33 [==============================] - 1s 21ms/step - loss: 43.9507 - mae: 44.4505 - lr: 1.5849e-05\n",
            "Epoch 98/100\n",
            "33/33 [==============================] - 1s 24ms/step - loss: 41.9683 - mae: 42.4633 - lr: 1.7113e-05\n",
            "Epoch 99/100\n",
            "33/33 [==============================] - 1s 21ms/step - loss: 45.1392 - mae: 45.6312 - lr: 1.8478e-05\n",
            "Epoch 100/100\n",
            "33/33 [==============================] - 1s 24ms/step - loss: 67.1577 - mae: 67.6571 - lr: 1.9953e-05\n"
          ]
        }
      ]
    },
    {
      "cell_type": "code",
      "source": [
        "plt.semilogx(history.history['lr'], history.history['loss'])\n",
        "plt.axis([1e-8, 1e-4, 0, 30])"
      ],
      "metadata": {
        "colab": {
          "base_uri": "https://localhost:8080/",
          "height": 291
        },
        "id": "kZCxYAwFVjPD",
        "outputId": "ba14e556-8462-4269-f0e4-ae28687f4d8a"
      },
      "execution_count": 13,
      "outputs": [
        {
          "output_type": "execute_result",
          "data": {
            "text/plain": [
              "(1e-08, 0.0001, 0.0, 30.0)"
            ]
          },
          "metadata": {},
          "execution_count": 13
        },
        {
          "output_type": "display_data",
          "data": {
            "image/png": "[encoded data removed]",
            "text/plain": [
              "<Figure size 432x288 with 1 Axes>"
            ]
          },
          "metadata": {
            "needs_background": "light"
          }
        }
      ]
    },
    {
      "cell_type": "code",
      "source": [
        "keras.backend.clear_session()\n",
        "tf.random.set_seed(42)\n",
        "np.random.seed(42)\n",
        "\n",
        "window_size = 30\n",
        "train_set = sequential_window_dataset(x_train, window_size)\n",
        "valid_set = sequential_window_dataset(x_valid, window_size)\n",
        "\n",
        "model = tf.keras.models.Sequential([\n",
        "                                    keras.layers.SimpleRNN(100, batch_input_shape=[1, None, 1], return_sequences=True, stateful=True),\n",
        "                                    keras.layers.SimpleRNN(100, return_sequences=True, stateful=True),\n",
        "                                    keras.layers.Dense(1),\n",
        "                                    keras.layers.Lambda(lambda x: x*200)\n",
        "])\n",
        "\n",
        "early_stopping = tf.keras.callbacks.EarlyStopping(patience=30)\n",
        "reset_state = ResetStatesCallBack()\n",
        "optimizer = tf.keras.optimizers.SGD(learning_rate=1e-7, momentum=0.9)\n",
        "model.compile(loss=tf.keras.losses.Huber(), optimizer=optimizer, metrics=['mae'])\n",
        "model_checkpoint = keras.callbacks.ModelCheckpoint('model_checkpoint.h5', save_best_only=True)\n",
        "model.fit(train_set, epochs=500, validation_data=valid_set, callbacks=[early_stopping, model_checkpoint, reset_state])"
      ],
      "metadata": {
        "colab": {
          "base_uri": "https://localhost:8080/"
        },
        "id": "qoqI-h-7WZZi",
        "outputId": "cb753b0a-3462-4ec6-f2c0-9df22b2685a8"
      },
      "execution_count": 15,
      "outputs": [
        {
          "output_type": "stream",
          "name": "stdout",
          "text": [
            "Epoch 1/500\n",
            "33/33 [==============================] - 7s 61ms/step - loss: 60.2498 - mae: 60.7477 - val_loss: 25.0215 - val_mae: 25.5176\n",
            "Epoch 2/500\n",
            "33/33 [==============================] - 1s 32ms/step - loss: 21.4714 - mae: 21.9618 - val_loss: 10.9142 - val_mae: 11.4074\n",
            "Epoch 3/500\n",
            "33/33 [==============================] - 1s 28ms/step - loss: 18.7249 - mae: 19.2166 - val_loss: 12.0569 - val_mae: 12.5479\n",
            "Epoch 4/500\n",
            "33/33 [==============================] - 1s 35ms/step - loss: 17.5231 - mae: 18.0143 - val_loss: 10.4488 - val_mae: 10.9391\n",
            "Epoch 5/500\n",
            "33/33 [==============================] - 1s 31ms/step - loss: 16.6983 - mae: 17.1891 - val_loss: 9.9581 - val_mae: 10.4499\n",
            "Epoch 6/500\n",
            "33/33 [==============================] - 1s 24ms/step - loss: 15.9090 - mae: 16.3984 - val_loss: 9.1539 - val_mae: 9.6415\n",
            "Epoch 7/500\n",
            "33/33 [==============================] - 1s 26ms/step - loss: 15.2155 - mae: 15.7027 - val_loss: 8.3393 - val_mae: 8.8249\n",
            "Epoch 8/500\n",
            "33/33 [==============================] - 1s 29ms/step - loss: 14.5099 - mae: 14.9961 - val_loss: 7.8259 - val_mae: 8.3123\n",
            "Epoch 9/500\n",
            "33/33 [==============================] - 1s 25ms/step - loss: 13.9258 - mae: 14.4126 - val_loss: 7.3023 - val_mae: 7.7879\n",
            "Epoch 10/500\n",
            "33/33 [==============================] - 2s 52ms/step - loss: 13.4064 - mae: 13.8968 - val_loss: 6.8635 - val_mae: 7.3454\n",
            "Epoch 11/500\n",
            "33/33 [==============================] - 1s 38ms/step - loss: 12.9188 - mae: 13.4082 - val_loss: 6.5418 - val_mae: 7.0255\n",
            "Epoch 12/500\n",
            "33/33 [==============================] - 1s 32ms/step - loss: 12.4920 - mae: 12.9762 - val_loss: 6.3124 - val_mae: 6.7950\n",
            "Epoch 13/500\n",
            "33/33 [==============================] - 1s 33ms/step - loss: 12.1188 - mae: 12.6026 - val_loss: 6.1875 - val_mae: 6.6708\n",
            "Epoch 14/500\n",
            "33/33 [==============================] - 1s 37ms/step - loss: 11.7833 - mae: 12.2669 - val_loss: 6.0323 - val_mae: 6.5165\n",
            "Epoch 15/500\n",
            "33/33 [==============================] - 2s 47ms/step - loss: 11.4779 - mae: 11.9594 - val_loss: 5.9862 - val_mae: 6.4694\n",
            "Epoch 16/500\n",
            "33/33 [==============================] - 2s 49ms/step - loss: 11.1839 - mae: 11.6646 - val_loss: 5.9122 - val_mae: 6.3946\n",
            "Epoch 17/500\n",
            "33/33 [==============================] - 1s 39ms/step - loss: 10.9185 - mae: 11.3992 - val_loss: 5.8466 - val_mae: 6.3273\n",
            "Epoch 18/500\n",
            "33/33 [==============================] - 1s 34ms/step - loss: 10.6848 - mae: 11.1675 - val_loss: 5.7965 - val_mae: 6.2760\n",
            "Epoch 19/500\n",
            "33/33 [==============================] - 1s 23ms/step - loss: 10.4679 - mae: 10.9499 - val_loss: 5.7590 - val_mae: 6.2378\n",
            "Epoch 20/500\n",
            "33/33 [==============================] - 1s 22ms/step - loss: 10.2666 - mae: 10.7485 - val_loss: 5.7191 - val_mae: 6.1963\n",
            "Epoch 21/500\n",
            "33/33 [==============================] - 1s 35ms/step - loss: 10.0846 - mae: 10.5658 - val_loss: 5.7028 - val_mae: 6.1786\n",
            "Epoch 22/500\n",
            "33/33 [==============================] - 1s 34ms/step - loss: 9.9236 - mae: 10.4026 - val_loss: 5.7120 - val_mae: 6.1868\n",
            "Epoch 23/500\n",
            "33/33 [==============================] - 1s 29ms/step - loss: 9.7868 - mae: 10.2649 - val_loss: 5.7473 - val_mae: 6.2220\n",
            "Epoch 24/500\n",
            "33/33 [==============================] - 1s 34ms/step - loss: 9.6725 - mae: 10.1518 - val_loss: 5.8241 - val_mae: 6.3028\n",
            "Epoch 25/500\n",
            "33/33 [==============================] - 1s 42ms/step - loss: 9.5742 - mae: 10.0551 - val_loss: 5.9584 - val_mae: 6.4395\n",
            "Epoch 26/500\n",
            "33/33 [==============================] - 1s 34ms/step - loss: 9.4785 - mae: 9.9604 - val_loss: 6.0587 - val_mae: 6.5404\n",
            "Epoch 27/500\n",
            "33/33 [==============================] - 1s 32ms/step - loss: 9.3864 - mae: 9.8686 - val_loss: 6.1350 - val_mae: 6.6167\n",
            "Epoch 28/500\n",
            "33/33 [==============================] - 1s 30ms/step - loss: 9.3000 - mae: 9.7817 - val_loss: 6.2112 - val_mae: 6.6920\n",
            "Epoch 29/500\n",
            "33/33 [==============================] - 1s 30ms/step - loss: 9.2202 - mae: 9.6999 - val_loss: 6.3077 - val_mae: 6.7891\n",
            "Epoch 30/500\n",
            "33/33 [==============================] - 1s 38ms/step - loss: 9.1452 - mae: 9.6252 - val_loss: 6.4201 - val_mae: 6.9006\n",
            "Epoch 31/500\n",
            "33/33 [==============================] - 1s 45ms/step - loss: 9.0753 - mae: 9.5556 - val_loss: 6.5523 - val_mae: 7.0327\n",
            "Epoch 32/500\n",
            "33/33 [==============================] - 1s 23ms/step - loss: 9.0090 - mae: 9.4910 - val_loss: 6.6859 - val_mae: 7.1654\n",
            "Epoch 33/500\n",
            "33/33 [==============================] - 1s 22ms/step - loss: 8.9432 - mae: 9.4252 - val_loss: 6.8139 - val_mae: 7.2941\n",
            "Epoch 34/500\n",
            "33/33 [==============================] - 1s 24ms/step - loss: 8.8776 - mae: 9.3592 - val_loss: 6.8729 - val_mae: 7.3541\n",
            "Epoch 35/500\n",
            "33/33 [==============================] - 1s 22ms/step - loss: 8.8143 - mae: 9.2940 - val_loss: 6.8389 - val_mae: 7.3182\n",
            "Epoch 36/500\n",
            "33/33 [==============================] - 1s 21ms/step - loss: 8.7465 - mae: 9.2257 - val_loss: 6.7921 - val_mae: 7.2707\n",
            "Epoch 37/500\n",
            "33/33 [==============================] - 1s 32ms/step - loss: 8.6807 - mae: 9.1613 - val_loss: 6.7235 - val_mae: 7.2015\n",
            "Epoch 38/500\n",
            "33/33 [==============================] - 1s 25ms/step - loss: 8.6150 - mae: 9.0962 - val_loss: 6.6948 - val_mae: 7.1732\n",
            "Epoch 39/500\n",
            "33/33 [==============================] - 1s 34ms/step - loss: 8.5511 - mae: 9.0316 - val_loss: 6.6938 - val_mae: 7.1731\n",
            "Epoch 40/500\n",
            "33/33 [==============================] - 1s 38ms/step - loss: 8.4998 - mae: 8.9825 - val_loss: 6.7496 - val_mae: 7.2292\n",
            "Epoch 41/500\n",
            "33/33 [==============================] - 2s 46ms/step - loss: 8.4619 - mae: 8.9458 - val_loss: 6.8581 - val_mae: 7.3382\n",
            "Epoch 42/500\n",
            "33/33 [==============================] - 1s 44ms/step - loss: 8.4213 - mae: 8.9042 - val_loss: 6.9451 - val_mae: 7.4273\n",
            "Epoch 43/500\n",
            "33/33 [==============================] - 2s 49ms/step - loss: 8.3727 - mae: 8.8558 - val_loss: 6.9882 - val_mae: 7.4710\n",
            "Epoch 44/500\n",
            "33/33 [==============================] - 1s 37ms/step - loss: 8.3164 - mae: 8.7984 - val_loss: 6.9493 - val_mae: 7.4307\n",
            "Epoch 45/500\n",
            "33/33 [==============================] - 1s 31ms/step - loss: 8.2595 - mae: 8.7403 - val_loss: 6.8679 - val_mae: 7.3469\n",
            "Epoch 46/500\n",
            "33/33 [==============================] - 1s 35ms/step - loss: 8.2018 - mae: 8.6818 - val_loss: 6.7928 - val_mae: 7.2708\n",
            "Epoch 47/500\n",
            "33/33 [==============================] - 1s 35ms/step - loss: 8.1484 - mae: 8.6291 - val_loss: 6.7779 - val_mae: 7.2560\n",
            "Epoch 48/500\n",
            "33/33 [==============================] - 1s 40ms/step - loss: 8.1042 - mae: 8.5858 - val_loss: 6.8247 - val_mae: 7.3038\n",
            "Epoch 49/500\n",
            "33/33 [==============================] - 1s 26ms/step - loss: 8.0652 - mae: 8.5466 - val_loss: 6.9032 - val_mae: 7.3848\n",
            "Epoch 50/500\n",
            "33/33 [==============================] - 2s 59ms/step - loss: 8.0286 - mae: 8.5106 - val_loss: 6.9969 - val_mae: 7.4815\n",
            "Epoch 51/500\n",
            "33/33 [==============================] - 1s 33ms/step - loss: 7.9923 - mae: 8.4729 - val_loss: 7.0716 - val_mae: 7.5577\n"
          ]
        },
        {
          "output_type": "execute_result",
          "data": {
            "text/plain": [
              "<keras.callbacks.History at 0x7f96a31917d0>"
            ]
          },
          "metadata": {},
          "execution_count": 15
        }
      ]
    },
    {
      "cell_type": "code",
      "source": [
        "model = tf.keras.models.load_model('model_checkpoint.h5')"
      ],
      "metadata": {
        "id": "QOOPImZFXFO6"
      },
      "execution_count": 16,
      "outputs": []
    },
    {
      "cell_type": "code",
      "source": [
        "model.reset_states()\n",
        "rnn_forecast = model.predict(series[np.newaxis, :, np.newaxis]) #the model expects a 3 dim array. Hence buffered with 1, (input), 1\n",
        "rnn_forecast = rnn_forecast[0, split_time-1: -1, 0]"
      ],
      "metadata": {
        "id": "g25bZNiuXm7s"
      },
      "execution_count": 18,
      "outputs": []
    },
    {
      "cell_type": "code",
      "source": [
        "rnn_forecast.shape"
      ],
      "metadata": {
        "colab": {
          "base_uri": "https://localhost:8080/"
        },
        "id": "AVLRyvFJYBNq",
        "outputId": "ca437938-66c0-4ff2-90ed-862360bb1cd8"
      },
      "execution_count": 19,
      "outputs": [
        {
          "output_type": "execute_result",
          "data": {
            "text/plain": [
              "(461,)"
            ]
          },
          "metadata": {},
          "execution_count": 19
        }
      ]
    },
    {
      "cell_type": "code",
      "source": [
        "plt.figure(figsize=(8,6))\n",
        "plot_series(time_valid, x_valid)\n",
        "plot_series(time_valid, rnn_forecast)\n",
        "plt.show()"
      ],
      "metadata": {
        "colab": {
          "base_uri": "https://localhost:8080/",
          "height": 388
        },
        "id": "0wVCCrh_YGa9",
        "outputId": "ff78bb29-9473-44a9-c0b3-da1155422eb9"
      },
      "execution_count": 20,
      "outputs": [
        {
          "output_type": "display_data",
          "data": {
            "image/png": "[encoded data removed]",
            "text/plain": [
              "<Figure size 576x432 with 1 Axes>"
            ]
          },
          "metadata": {
            "needs_background": "light"
          }
        }
      ]
    },
    {
      "cell_type": "code",
      "source": [
        "keras.metrics.mean_absolute_error(x_valid, rnn_forecast).numpy()"
      ],
      "metadata": {
        "colab": {
          "base_uri": "https://localhost:8080/"
        },
        "id": "fqzJR5ogYQz-",
        "outputId": "4bab8ffa-d43e-4aae-ada4-e116b3ce6804"
      },
      "execution_count": 23,
      "outputs": [
        {
          "output_type": "execute_result",
          "data": {
            "text/plain": [
              "6.2778273"
            ]
          },
          "metadata": {},
          "execution_count": 23
        }
      ]
    },
    {
      "cell_type": "code",
      "source": [
        ""
      ],
      "metadata": {
        "id": "PkRh5wr3YY4q"
      },
      "execution_count": null,
      "outputs": []
    }
  ]
}